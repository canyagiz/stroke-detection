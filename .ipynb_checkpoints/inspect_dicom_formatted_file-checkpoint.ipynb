{
 "cells": [
  {
   "cell_type": "code",
   "execution_count": 5,
   "id": "8fb7f957-a46e-4567-a3d8-3bdb38b2658c",
   "metadata": {},
   "outputs": [],
   "source": [
    "import pydicom\n",
    "import os"
   ]
  },
  {
   "cell_type": "code",
   "execution_count": 2,
   "id": "00bde81f-142b-462e-a61d-6a70aaf19f40",
   "metadata": {},
   "outputs": [],
   "source": [
    "def print_dicom_data_types(dicom_path):\n",
    "    # DICOM dosyasını oku\n",
    "    dicom_data = pydicom.dcmread(dicom_path)\n",
    "    \n",
    "    print(\"\\n--- Available DICOM Fields and Data Types ---\")\n",
    "    for tag in dicom_data.dir():\n",
    "        try:\n",
    "            value = dicom_data.get(tag, None)\n",
    "            if value is not None:\n",
    "                print(f\"{tag}: {type(value)}\")\n",
    "            else:\n",
    "                print(f\"{tag}: None\")\n",
    "        except Exception as e:\n",
    "            print(f\"{tag}: Error reading ({e})\")"
   ]
  },
  {
   "cell_type": "code",
   "execution_count": 4,
   "id": "f1debb48-ad25-423b-81f1-4b1d76d3f0a6",
   "metadata": {},
   "outputs": [
    {
     "ename": "SyntaxError",
     "evalue": "unterminated string literal (detected at line 1) (360824195.py, line 1)",
     "output_type": "error",
     "traceback": [
      "\u001b[1;36m  Cell \u001b[1;32mIn[4], line 1\u001b[1;36m\u001b[0m\n\u001b[1;33m    folder_path = \"data\\İskemi Veri Seti\\DICOM\\\"\u001b[0m\n\u001b[1;37m                  ^\u001b[0m\n\u001b[1;31mSyntaxError\u001b[0m\u001b[1;31m:\u001b[0m unterminated string literal (detected at line 1)\n"
     ]
    }
   ],
   "source": [
    "folder_path = \"data\\İskemi Veri Seti\\DICOM\\\"\n",
    "dicom_path = os.path.join(folder_path, \"10003.dcm\")  \n",
    "print_dicom_data_types(dicom_path)"
   ]
  },
  {
   "cell_type": "code",
   "execution_count": null,
   "id": "acfde56c-feaf-4a99-83e7-88217ece12ca",
   "metadata": {},
   "outputs": [],
   "source": []
  }
 ],
 "metadata": {
  "kernelspec": {
   "display_name": "Python 3 (ipykernel)",
   "language": "python",
   "name": "python3"
  },
  "language_info": {
   "codemirror_mode": {
    "name": "ipython",
    "version": 3
   },
   "file_extension": ".py",
   "mimetype": "text/x-python",
   "name": "python",
   "nbconvert_exporter": "python",
   "pygments_lexer": "ipython3",
   "version": "3.10.13"
  }
 },
 "nbformat": 4,
 "nbformat_minor": 5
}
