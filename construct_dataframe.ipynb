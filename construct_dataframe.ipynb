{
 "cells": [
  {
   "cell_type": "markdown",
   "id": "3338918d-ccaa-4e9d-b56a-fc0726dab1d1",
   "metadata": {},
   "source": [
    "# 1. Import Libraries"
   ]
  },
  {
   "cell_type": "code",
   "execution_count": 8,
   "id": "2077e9ca-9424-4f84-9ca3-895e893bdec7",
   "metadata": {},
   "outputs": [],
   "source": [
    "import os, pandas as pd\n",
    "import pydicom\n",
    "import numpy as np\n",
    "import cv2\n",
    "import pickle\n",
    "\n",
    "root_dir_for_dicoms = \"data/\"\n",
    "root_dir_for_pickles = \"pkl(s)/\""
   ]
  },
  {
   "cell_type": "markdown",
   "id": "45fa616e-da9d-45e9-b171-1267fe3cd223",
   "metadata": {},
   "source": [
    "# Helper Methods"
   ]
  },
  {
   "cell_type": "markdown",
   "id": "e8fe494b-863d-43b7-be31-255bc10983d9",
   "metadata": {},
   "source": [
    "### a. Reads every .dcm data, then converts to .png."
   ]
  },
  {
   "cell_type": "code",
   "execution_count": null,
   "id": "e4428f43-c551-4215-b086-eab3c7710393",
   "metadata": {},
   "outputs": [],
   "source": [
    "def dcm_to_png(dcm_file):\n",
    "    "
   ]
  },
  {
   "cell_type": "markdown",
   "id": "50e05952-fa24-46e7-b2a9-c9031ddcadb7",
   "metadata": {},
   "source": [
    "# 2. Construct raw DataFrame\n",
    "<h2>Columns:</h2>\n",
    "<h5>- file_path | stroke_type | file_name</h5>"
   ]
  },
  {
   "cell_type": "code",
   "execution_count": 3,
   "id": "e361312b-6894-4830-aecf-f961edc40d3d",
   "metadata": {},
   "outputs": [],
   "source": [
    "data = []\n",
    "\n",
    "for foldername, subfolders, filenames in os.walk(root_dir_for_dicoms):\n",
    "    for filename in filenames:\n",
    "        if filename.lower().endswith((\".dcm\")):\n",
    "            # Generate the full path of the image\n",
    "            full_path = os.path.join(foldername, filename)\n",
    "            # Extract team name (parent folder of the player folder)\n",
    "            stroke_type = os.path.basename(os.path.dirname(foldername))\n",
    "            \n",
    "            # Append data to the list\n",
    "            data.append({\"file_path\": full_path, \"stroke_type\": stroke_type, \"file_name\": filename})\n",
    "df_dcm = pd.DataFrame(data)"
   ]
  },
  {
   "cell_type": "code",
   "execution_count": 4,
   "id": "cbfa914e-0d07-473a-a7c5-2fc2a47b3aa5",
   "metadata": {},
   "outputs": [
    {
     "data": {
      "text/html": [
       "<div>\n",
       "<style scoped>\n",
       "    .dataframe tbody tr th:only-of-type {\n",
       "        vertical-align: middle;\n",
       "    }\n",
       "\n",
       "    .dataframe tbody tr th {\n",
       "        vertical-align: top;\n",
       "    }\n",
       "\n",
       "    .dataframe thead th {\n",
       "        text-align: right;\n",
       "    }\n",
       "</style>\n",
       "<table border=\"1\" class=\"dataframe\">\n",
       "  <thead>\n",
       "    <tr style=\"text-align: right;\">\n",
       "      <th></th>\n",
       "      <th>file_path</th>\n",
       "      <th>stroke_type</th>\n",
       "      <th>file_name</th>\n",
       "    </tr>\n",
       "  </thead>\n",
       "  <tbody>\n",
       "    <tr>\n",
       "      <th>0</th>\n",
       "      <td>data/Kanama Veri Seti\\DICOM\\10002.dcm</td>\n",
       "      <td>Kanama Veri Seti</td>\n",
       "      <td>10002.dcm</td>\n",
       "    </tr>\n",
       "    <tr>\n",
       "      <th>1</th>\n",
       "      <td>data/Kanama Veri Seti\\DICOM\\10033.dcm</td>\n",
       "      <td>Kanama Veri Seti</td>\n",
       "      <td>10033.dcm</td>\n",
       "    </tr>\n",
       "    <tr>\n",
       "      <th>2</th>\n",
       "      <td>data/Kanama Veri Seti\\DICOM\\10036.dcm</td>\n",
       "      <td>Kanama Veri Seti</td>\n",
       "      <td>10036.dcm</td>\n",
       "    </tr>\n",
       "    <tr>\n",
       "      <th>3</th>\n",
       "      <td>data/Kanama Veri Seti\\DICOM\\10039.dcm</td>\n",
       "      <td>Kanama Veri Seti</td>\n",
       "      <td>10039.dcm</td>\n",
       "    </tr>\n",
       "    <tr>\n",
       "      <th>4</th>\n",
       "      <td>data/Kanama Veri Seti\\DICOM\\10045.dcm</td>\n",
       "      <td>Kanama Veri Seti</td>\n",
       "      <td>10045.dcm</td>\n",
       "    </tr>\n",
       "  </tbody>\n",
       "</table>\n",
       "</div>"
      ],
      "text/plain": [
       "                               file_path       stroke_type  file_name\n",
       "0  data/Kanama Veri Seti\\DICOM\\10002.dcm  Kanama Veri Seti  10002.dcm\n",
       "1  data/Kanama Veri Seti\\DICOM\\10033.dcm  Kanama Veri Seti  10033.dcm\n",
       "2  data/Kanama Veri Seti\\DICOM\\10036.dcm  Kanama Veri Seti  10036.dcm\n",
       "3  data/Kanama Veri Seti\\DICOM\\10039.dcm  Kanama Veri Seti  10039.dcm\n",
       "4  data/Kanama Veri Seti\\DICOM\\10045.dcm  Kanama Veri Seti  10045.dcm"
      ]
     },
     "execution_count": 4,
     "metadata": {},
     "output_type": "execute_result"
    }
   ],
   "source": [
    "df_dcm.head()"
   ]
  },
  {
   "cell_type": "code",
   "execution_count": 6,
   "id": "9b469b07-ecdb-42e7-a4c2-f0fa051b198f",
   "metadata": {},
   "outputs": [
    {
     "data": {
      "text/html": [
       "<div>\n",
       "<style scoped>\n",
       "    .dataframe tbody tr th:only-of-type {\n",
       "        vertical-align: middle;\n",
       "    }\n",
       "\n",
       "    .dataframe tbody tr th {\n",
       "        vertical-align: top;\n",
       "    }\n",
       "\n",
       "    .dataframe thead th {\n",
       "        text-align: right;\n",
       "    }\n",
       "</style>\n",
       "<table border=\"1\" class=\"dataframe\">\n",
       "  <thead>\n",
       "    <tr style=\"text-align: right;\">\n",
       "      <th></th>\n",
       "      <th>file_path</th>\n",
       "      <th>stroke_type</th>\n",
       "      <th>file_name</th>\n",
       "    </tr>\n",
       "  </thead>\n",
       "  <tbody>\n",
       "    <tr>\n",
       "      <th>count</th>\n",
       "      <td>2010</td>\n",
       "      <td>2010</td>\n",
       "      <td>2010</td>\n",
       "    </tr>\n",
       "    <tr>\n",
       "      <th>unique</th>\n",
       "      <td>2010</td>\n",
       "      <td>3</td>\n",
       "      <td>2010</td>\n",
       "    </tr>\n",
       "    <tr>\n",
       "      <th>top</th>\n",
       "      <td>data/Kanama Veri Seti\\DICOM\\10002.dcm</td>\n",
       "      <td>Kanama Veri Seti</td>\n",
       "      <td>10002.dcm</td>\n",
       "    </tr>\n",
       "    <tr>\n",
       "      <th>freq</th>\n",
       "      <td>1</td>\n",
       "      <td>1093</td>\n",
       "      <td>1</td>\n",
       "    </tr>\n",
       "  </tbody>\n",
       "</table>\n",
       "</div>"
      ],
      "text/plain": [
       "                                    file_path       stroke_type  file_name\n",
       "count                                    2010              2010       2010\n",
       "unique                                   2010                 3       2010\n",
       "top     data/Kanama Veri Seti\\DICOM\\10002.dcm  Kanama Veri Seti  10002.dcm\n",
       "freq                                        1              1093          1"
      ]
     },
     "execution_count": 6,
     "metadata": {},
     "output_type": "execute_result"
    }
   ],
   "source": [
    "df_dcm.describe()"
   ]
  },
  {
   "cell_type": "code",
   "execution_count": 7,
   "id": "f2e261e1-2b45-407e-ba51-6b2e5f491731",
   "metadata": {},
   "outputs": [
    {
     "data": {
      "text/plain": [
       "Kanama Veri Seti      1093\n",
       "İnme Yok Veri Seti     468\n",
       "İskemi Veri Seti       449\n",
       "Name: stroke_type, dtype: int64"
      ]
     },
     "execution_count": 7,
     "metadata": {},
     "output_type": "execute_result"
    }
   ],
   "source": [
    "df_dcm[\"stroke_type\"].value_counts()"
   ]
  },
  {
   "cell_type": "code",
   "execution_count": 9,
   "id": "c372b356-44fd-4159-95dc-c923e42b5a89",
   "metadata": {},
   "outputs": [],
   "source": [
    "df_dcm.to_pickle(os.path.join(root_dir_for_pickles,\"df_dcm\"))"
   ]
  },
  {
   "cell_type": "markdown",
   "id": "35e51fb9-a4da-4f4e-9499-58f16f22e487",
   "metadata": {},
   "source": [
    "# 3. Construct raw Image DataFrame\n",
    "<h2>What is new?</h2>\n",
    "<h5>- Stored data is in .png format.</h5>\n",
    "\n",
    "<h2>Columns:</h2>\n",
    "<h5>- file_path | stroke_type | file_name</h5>"
   ]
  },
  {
   "cell_type": "code",
   "execution_count": null,
   "id": "4a621b41-7bda-481e-bc63-4635edf35c75",
   "metadata": {},
   "outputs": [],
   "source": []
  }
 ],
 "metadata": {
  "kernelspec": {
   "display_name": "medicine_env kernel",
   "language": "python",
   "name": "ortam_adı"
  },
  "language_info": {
   "codemirror_mode": {
    "name": "ipython",
    "version": 3
   },
   "file_extension": ".py",
   "mimetype": "text/x-python",
   "name": "python",
   "nbconvert_exporter": "python",
   "pygments_lexer": "ipython3",
   "version": "3.9.7"
  }
 },
 "nbformat": 4,
 "nbformat_minor": 5
}
