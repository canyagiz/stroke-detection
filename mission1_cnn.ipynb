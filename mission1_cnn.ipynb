{
 "cells": [
  {
   "cell_type": "markdown",
   "id": "31fe607f-b357-4be0-b374-983fa6ea9847",
   "metadata": {},
   "source": [
    "# 1.Importings"
   ]
  },
  {
   "cell_type": "code",
   "execution_count": 2,
   "id": "5a66a14f-7711-4938-9c99-e2ff7b2878c6",
   "metadata": {},
   "outputs": [],
   "source": [
    "from tensorflow.keras.models import Sequential\n",
    "from tensorflow.keras.layers import Conv2D, MaxPooling2D, Flatten, Dense, Dropout"
   ]
  },
  {
   "cell_type": "markdown",
   "id": "5e320f5f-ef83-4f57-bf07-bf088f1bc6b9",
   "metadata": {},
   "source": [
    "#"
   ]
  },
  {
   "cell_type": "markdown",
   "id": "c76eeaa0-4258-4197-b163-82e2de23de4e",
   "metadata": {},
   "source": [
    "# Create Model Instance "
   ]
  },
  {
   "cell_type": "code",
   "execution_count": null,
   "id": "c90196cd-22f4-46e9-aab0-fc9644b2ea43",
   "metadata": {},
   "outputs": [],
   "source": [
    "model = Sequential([\n",
    "    Conv2D(32, (3,3), activation='relu', input_shape=(224,224,3)),\n",
    "    MaxPooling2D(2,2),\n",
    "    Conv2D(64, (3,3), activation='relu'),\n",
    "    MaxPooling2D(2,2),\n",
    "    Flatten(),\n",
    "    Dense(128, activation='relu'),\n",
    "    Dropout(0.3),\n",
    "    Dense(3, activation='softmax')  # 3 sınıf için\n",
    "])"
   ]
  }
 ],
 "metadata": {
  "kernelspec": {
   "display_name": "Python 3 (ipykernel)",
   "language": "python",
   "name": "python3"
  },
  "language_info": {
   "codemirror_mode": {
    "name": "ipython",
    "version": 3
   },
   "file_extension": ".py",
   "mimetype": "text/x-python",
   "name": "python",
   "nbconvert_exporter": "python",
   "pygments_lexer": "ipython3",
   "version": "3.9.7"
  }
 },
 "nbformat": 4,
 "nbformat_minor": 5
}
